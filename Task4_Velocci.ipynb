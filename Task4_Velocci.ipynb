{
 "cells": [
  {
   "cell_type": "code",
   "execution_count": 99,
   "metadata": {},
   "outputs": [],
   "source": [
    "import numpy as np\n",
    "from numpy import kron\n",
    "import qiskit as qk"
   ]
  },
  {
   "cell_type": "markdown",
   "metadata": {},
   "source": [
    "### Decompose the 4x4 Hamiltonian matrix into a sum of tensor products of Pauli matrices using the formula in the notes"
   ]
  },
  {
   "cell_type": "code",
   "execution_count": 148,
   "metadata": {},
   "outputs": [],
   "source": [
    "def decomposition(H):\n",
    "    \"\"\"Decompose any 4x4 Hermitian matrix into a sum of tensor products of two Pauli matrices\n",
    "    \"\"\"\n",
    "    identity = np.array([[1, 0],[ 0, 1]], dtype=np.complex128)\n",
    "    x = np.array([[0, 1],  [ 1, 0]], dtype=np.complex128)\n",
    "    y = np.array([[0, -1j],[1j, 0]], dtype=np.complex128)\n",
    "    z = np.array([[1, 0],  [0, -1]], dtype=np.complex128)\n",
    "    S = [identity, x, y, z]\n",
    "    labels = ['I', 'sigma_x', 'sigma_y', 'sigma_z']\n",
    "    d = {'00': 'I product I', '01': 'I product sigma_x', '02': 'I product sigma_y', '03': 'I product sigma_z', \n",
    "        '10': 'sigma_x product I', '11': 'sigma_x product sigma_x', '12': 'sigma_x product sigma_y', \n",
    "        '13': 'sigma_x product sigma_z', '20': 'sigma_y product I', '21': 'sigma_y product sigma_x', \n",
    "        '22': 'sigma_y product sigma_y', '23': 'sigma_y product sigma_z', '30': 'sigma_z product I', \n",
    "        '31': 'sigma_z product sigma_x', '32': 'sigma_z product sigma_y', '33': 'sigma_z product sigma_z'}\n",
    "    for i in range(4):\n",
    "        for j in range(4):\n",
    "            a_ij = 0.25 * np.dot(kron(S[i], S[j]), H).trace()\n",
    "            if a_ij != 0.0:\n",
    "                print(str(a_ij) + ' * ' + d[str(i)+str(j)])"
   ]
  },
  {
   "cell_type": "code",
   "execution_count": 101,
   "metadata": {},
   "outputs": [
    {
     "name": "stdout",
     "output_type": "stream",
     "text": [
      "(-0.5+0j) * I product I\n",
      "(0.5+0j) * sigma_x product sigma_x\n",
      "(0.5+0j) * sigma_y product sigma_y\n",
      "(0.5+0j) * sigma_z product sigma_z\n"
     ]
    }
   ],
   "source": [
    "H = np.array([[0,0,0,0],[0,-1,1,0],[0,1,-1,0],[0,0,0,0]])\n",
    "decomposition(H)"
   ]
  },
  {
   "cell_type": "markdown",
   "metadata": {},
   "source": [
    "### Allocate a circuit with 2 qubits and 2 classical bits.\n",
    "### Our Hamiltonian is a sum of tensor products of two sigma_x matrices, two sigma_y matrices, two sigma_z matrices, and two 2x2 identity matrices (see notes)"
   ]
  },
  {
   "cell_type": "code",
   "execution_count": 102,
   "metadata": {},
   "outputs": [],
   "source": [
    "def prepare_state(theta, n=3):\n",
    "    \"\"\"\n",
    "    Prepare three 2-qubit states with 3 associated quantum registers, 3 associated classical registers, \n",
    "    and 3 quantum circuits.  We will prepare the state with the ansatz mentioned in the notes in which we act on\n",
    "    the first qubit with the Hadamard operator, then with the R_z operator, then we act on the 2-qubit state\n",
    "    with the CNOT gate, and then on the second qubit in each terms of the superposition with the sigma_x operator.\n",
    "    After that, we will take the first circuit and act on each qubit with the R_y(pi/2) operator, and take the second\n",
    "    circuit and act on each qubit with the R_x(-pi/2) operator as explained in the notes. We do this so that those\n",
    "    qubits will be in the basis of eigenvectors of sigma_x and sigma_y as explained in the notes.  We can measure\n",
    "    the qubits in the other circuit as-is because we need the expectation value of sigma_z and the qubits are already\n",
    "    in the computational basis.\n",
    "    \"\"\"\n",
    "    qr0 = qk.QuantumRegister(2)\n",
    "    cr0 = qk.ClassicalRegister(2)\n",
    "    qc0 = qk.QuantumCircuit(qr0,cr0)\n",
    "    qr1 = qk.QuantumRegister(2)\n",
    "    cr1 = qk.ClassicalRegister(2)\n",
    "    qc1 = qk.QuantumCircuit(qr1,cr1)\n",
    "    qr2 = qk.QuantumRegister(2)\n",
    "    cr2 = qk.ClassicalRegister(2)\n",
    "    qc2 = qk.QuantumCircuit(qr2,cr2)\n",
    "    \n",
    "    qregisters = [qr0,qr1,qr2]\n",
    "    cregisters = [cr0,cr1,cr2]\n",
    "    qcircuits = [qc0,qc1,qc2]\n",
    "    \n",
    "    for i in range(n):\n",
    "        qcircuits[i].h(qregisters[i][0])\n",
    "    for i in range(n):\n",
    "        qcircuits[i].rz(theta, qregisters[i][0])\n",
    "    for i in range(n):\n",
    "        qcircuits[i].cx(qregisters[i][0], qregisters[i][1])\n",
    "    for i in range(n):\n",
    "        qcircuits[i].x(qregisters[i][1])\n",
    "        \n",
    "    qcircuits[0].ry((np.pi)/2, qregisters[0][0])\n",
    "    qcircuits[0].ry((np.pi)/2, qregisters[0][1])\n",
    "    qcircuits[1].rx(-(np.pi)/2, qregisters[1][0])\n",
    "    qcircuits[1].rx(-(np.pi)/2, qregisters[1][1])\n",
    "    \n",
    "    return qregisters, cregisters, qcircuits"
   ]
  },
  {
   "cell_type": "markdown",
   "metadata": {},
   "source": [
    "### Here is what the circuits look like after they have been prepared"
   ]
  },
  {
   "cell_type": "code",
   "execution_count": 103,
   "metadata": {},
   "outputs": [
    {
     "data": {
      "image/png": "[encoded data removed]",
      "text/plain": [
       "<Figure size 522.536x204.68 with 1 Axes>"
      ]
     },
     "execution_count": 103,
     "metadata": {},
     "output_type": "execute_result"
    }
   ],
   "source": [
    "qregisters, cregisters, qcircuits = prepare_state(np.pi, n=3)\n",
    "qcircuits[0].draw(output='mpl')"
   ]
  },
  {
   "cell_type": "code",
   "execution_count": 104,
   "metadata": {},
   "outputs": [
    {
     "data": {
      "image/png": "[encoded data removed]",
      "text/plain": [
       "<Figure size 522.536x204.68 with 1 Axes>"
      ]
     },
     "execution_count": 104,
     "metadata": {},
     "output_type": "execute_result"
    }
   ],
   "source": [
    "qcircuits[1].draw(output='mpl')"
   ]
  },
  {
   "cell_type": "code",
   "execution_count": 105,
   "metadata": {},
   "outputs": [
    {
     "data": {
      "image/png": "[encoded data removed]",
      "text/plain": [
       "<Figure size 462.336x204.68 with 1 Axes>"
      ]
     },
     "execution_count": 105,
     "metadata": {},
     "output_type": "execute_result"
    }
   ],
   "source": [
    "qcircuits[2].draw(output='mpl')"
   ]
  },
  {
   "cell_type": "markdown",
   "metadata": {},
   "source": [
    "### Calculate the expectation value of the sigma_x, sigma_y, and sigma_z terms (expectation value of the identity operator tensor product is just 1 because the ansatz is normalized) by preparing the state in the appropriate basis 5000 times and measuring the state each time.  If the measurement is |01> or |10>, then multiply the number of times those states appear by -1.  If the measurement is |00> or |11>, then multiply the number of times those states appear by 1.  Finally, divide the sum by 5000, and multiply by 0.5 if we are calculating the expectation value of sigma_x X sigma_x or sigma_y X sigma_y or sigma_z X sigma_z.  Then take the result and subtract 0.5 (expectation value of identity X identity)."
   ]
  },
  {
   "cell_type": "code",
   "execution_count": 106,
   "metadata": {},
   "outputs": [],
   "source": [
    "def expectation(qcircuits, cregisters, qregisters, n_shots, n=3):\n",
    "    \"\"\"\n",
    "    For each circuit, execute and measure it using the classical simulator 5000 times as explained above. Multiply\n",
    "    each of the three expectation values by 0.5, add them up, and subtract -0.5.  Return the result.\n",
    "    \"\"\"\n",
    "    expect = -0.5\n",
    "    for i in range(n):\n",
    "        qcircuits[i].measure(qregisters[i],cregisters[i])\n",
    "        qk.Aer.backends()\n",
    "        sim = qk.Aer.get_backend('qasm_simulator')\n",
    "        res = qk.execute(qcircuits[i], sim, shots=n_shots).result()\n",
    "        counts = res.get_counts()\n",
    "        sum = 0\n",
    "        for k,v in counts.items():\n",
    "            if k=='01' or k=='10':\n",
    "                sum += (-1)*v/n_shots\n",
    "            elif k=='00' or k=='11':\n",
    "                sum += v/n_shots\n",
    "        sum = 0.5*sum\n",
    "        expect += sum\n",
    "    return expect"
   ]
  },
  {
   "cell_type": "code",
   "execution_count": 107,
   "metadata": {},
   "outputs": [],
   "source": [
    "# Consider 100 values of theta, between 0 and Pi.  This theta is the one used in state preparation.\n",
    "thetas = np.linspace(0, np.pi, 100)"
   ]
  },
  {
   "cell_type": "code",
   "execution_count": 108,
   "metadata": {},
   "outputs": [
    {
     "name": "stdout",
     "output_type": "stream",
     "text": [
      "The minimum eigenvalue is: -2.0.\n"
     ]
    }
   ],
   "source": [
    "# For each theta, store the resulting expectation value in results\n",
    "results = []\n",
    "# For each theta, find the expectation value\n",
    "for theta in thetas:\n",
    "    qregisters, cregisters, qcircuits = prepare_state(theta, n=3)\n",
    "    expect = expectation(qcircuits, cregisters, qregisters, 5000, n=3)\n",
    "    results.append(expect)\n",
    "# Sort the results in ascending order.  The first one is your minimum eigenvalue.\n",
    "results.sort()\n",
    "print(\"The minimum eigenvalue is: {}.\".format(results[0]))"
   ]
  },
  {
   "cell_type": "code",
   "execution_count": 109,
   "metadata": {},
   "outputs": [
    {
     "name": "stderr",
     "output_type": "stream",
     "text": [
      "Credentials are already in use. The existing account in the session will be replaced.\n"
     ]
    },
    {
     "data": {
      "text/plain": [
       "<AccountProvider for IBMQ(hub='ibm-q', group='open', project='main')>"
      ]
     },
     "execution_count": 109,
     "metadata": {},
     "output_type": "execute_result"
    }
   ],
   "source": [
    "from qiskit import IBMQ\n",
    "#IBMQ.delete_account()\n",
    "IBMQ.save_account('my IBM token', overwrite=True)\n",
    "IBMQ.load_account()"
   ]
  },
  {
   "cell_type": "code",
   "execution_count": 110,
   "metadata": {},
   "outputs": [],
   "source": [
    "provider = IBMQ.get_provider()\n",
    "procs=provider.backends(operational=True, simulator=False)"
   ]
  },
  {
   "cell_type": "code",
   "execution_count": 111,
   "metadata": {},
   "outputs": [
    {
     "data": {
      "application/vnd.jupyter.widget-view+json": {
       "model_id": "df278e6b0f2344f3b4f5734bc98654ec",
       "version_major": 2,
       "version_minor": 0
      },
      "text/plain": [
       "VBox(children=(HTML(value=\"<h2 style ='color:#ffffff; background-color:#000000;padding-top: 1%; padding-bottom…"
      ]
     },
     "metadata": {},
     "output_type": "display_data"
    }
   ],
   "source": [
    "from qiskit.tools.jupyter import *\n",
    "%qiskit_backend_overview"
   ]
  },
  {
   "cell_type": "code",
   "execution_count": 112,
   "metadata": {},
   "outputs": [],
   "source": [
    "from qiskit.tools import monitor\n",
    "backend = qk.providers.ibmq.least_busy([p for p in procs if len(p.properties().qubits) >= 2])"
   ]
  },
  {
   "cell_type": "code",
   "execution_count": 113,
   "metadata": {},
   "outputs": [
    {
     "name": "stdout",
     "output_type": "stream",
     "text": [
      "ibmq_london\n",
      "===========\n",
      "Configuration\n",
      "-------------\n",
      "    n_qubits: 5\n",
      "    operational: True\n",
      "    status_msg: active\n",
      "    pending_jobs: 2\n",
      "    backend_version: 1.0.1\n",
      "    basis_gates: ['u1', 'u2', 'u3', 'cx', 'id']\n",
      "    local: False\n",
      "    simulator: False\n",
      "    coupling_map: [[0, 1], [1, 0], [1, 2], [1, 3], [2, 1], [3, 1], [3, 4], [4, 3]]\n",
      "    open_pulse: False\n",
      "    credits_required: True\n",
      "    description: 5 qubit device London\n",
      "    url: None\n",
      "    allow_object_storage: True\n",
      "    conditional: False\n",
      "    quantum_volume: 16\n",
      "    backend_name: ibmq_london\n",
      "    sample_name: Giraffe\n",
      "    max_shots: 8192\n",
      "    allow_q_circuit: False\n",
      "    max_experiments: 75\n",
      "    online_date: 2019-09-13T04:00:00+00:00\n",
      "    memory: True\n",
      "    allow_q_object: True\n",
      "    n_registers: 1\n",
      "\n",
      "Qubits [Name / Freq / T1 / T2 / U1 err / U2 err / U3 err / Readout err]\n",
      "-----------------------------------------------------------------------\n",
      "    Q0 / 5.25406 GHz / 33.12544 µs / 51.29511 µs / 0.0 / 0.00097 / 0.00194 / 0.03167\n",
      "    Q1 / 5.04877 GHz / 79.50631 µs / 69.41555 µs / 0.0 / 0.00058 / 0.00116 / 0.07333\n",
      "    Q2 / 5.23056 GHz / 75.05794 µs / 57.60641 µs / 0.0 / 0.00051 / 0.00103 / 0.02\n",
      "    Q3 / 5.20095 GHz / 55.81357 µs / 108.23466 µs / 0.0 / 0.00048 / 0.00095 / 0.03667\n",
      "    Q4 / 5.06579 GHz / 62.15636 µs / 24.95188 µs / 0.0 / 0.00098 / 0.00197 / 0.02667\n",
      "\n",
      "Multi-Qubit Gates [Name / Type / Gate Error]\n",
      "--------------------------------------------\n",
      "    cx0_1 / cx / 0.01267\n",
      "    cx1_0 / cx / 0.01267\n",
      "    cx1_2 / cx / 0.01099\n",
      "    cx1_3 / cx / 0.01256\n",
      "    cx2_1 / cx / 0.01099\n",
      "    cx3_1 / cx / 0.01256\n",
      "    cx3_4 / cx / 0.01332\n",
      "    cx4_3 / cx / 0.01332\n"
     ]
    }
   ],
   "source": [
    "from qiskit.tools.monitor import backend_overview, backend_monitor\n",
    "backend_monitor(backend)"
   ]
  },
  {
   "cell_type": "code",
   "execution_count": 129,
   "metadata": {},
   "outputs": [],
   "source": [
    "def q_expectation(qcircuits, cregisters, qregisters, n_shots, n=3):\n",
    "    \"\"\"\n",
    "    For each circuit, execute and measure it using the classical simulator 5000 times as explained above. Multiply\n",
    "    each of the three expectation values by 0.5, add them up, and subtract -0.5.  Return the result.\n",
    "    \"\"\"\n",
    "    expect = -0.5\n",
    "    for i in range(n):\n",
    "        qcircuits[i].measure(qregisters[i],cregisters[i])\n",
    "        qk.Aer.backends()\n",
    "        sim = qk.Aer.get_backend('qasm_simulator')\n",
    "        res = qk.execute(qcircuits[i], backend=backend, shots=n_shots).result()\n",
    "        #mon = monitor.job_monitor(res)\n",
    "        counts = res.get_counts()\n",
    "        sum = 0\n",
    "        for k,v in counts.items():\n",
    "            if k=='01' or k=='10':\n",
    "                sum += (-1)*v/n_shots\n",
    "            elif k=='00' or k=='11':\n",
    "                sum += v/n_shots\n",
    "        sum = 0.5*sum\n",
    "        expect += sum\n",
    "    return expect"
   ]
  },
  {
   "cell_type": "code",
   "execution_count": 136,
   "metadata": {},
   "outputs": [],
   "source": [
    "# Consider 10 values of theta, between 0 and Pi.  This theta is the one used in state preparation.\n",
    "thetas = np.linspace(0, np.pi, 10)"
   ]
  },
  {
   "cell_type": "code",
   "execution_count": 137,
   "metadata": {},
   "outputs": [
    {
     "name": "stdout",
     "output_type": "stream",
     "text": [
      "The minimum eigenvalue is: -1.67.\n"
     ]
    }
   ],
   "source": [
    "# Use n_shots = 100\n",
    "results = []\n",
    "# For each theta, find the expectation value\n",
    "for theta in thetas:\n",
    "    qregisters, cregisters, qcircuits = prepare_state(theta, n=3)\n",
    "    expect = q_expectation(qcircuits, cregisters, qregisters, 100, n=3)\n",
    "    results.append(expect)\n",
    "# Sort the results in ascending order.  The first one is your minimum eigenvalue.\n",
    "results.sort()\n",
    "print(\"The minimum eigenvalue is: {}.\".format(results[0]))"
   ]
  },
  {
   "cell_type": "code",
   "execution_count": 138,
   "metadata": {},
   "outputs": [
    {
     "name": "stdout",
     "output_type": "stream",
     "text": [
      "The minimum eigenvalue is: -1.6809999999999998.\n"
     ]
    }
   ],
   "source": [
    "# Use n_shots = 1000\n",
    "results = []\n",
    "# For each theta, find the expectation value\n",
    "for theta in thetas:\n",
    "    qregisters, cregisters, qcircuits = prepare_state(theta, n=3)\n",
    "    expect = q_expectation(qcircuits, cregisters, qregisters, 1000, n=3)\n",
    "    results.append(expect)\n",
    "# Sort the results in ascending order.  The first one is your minimum eigenvalue.\n",
    "results.sort()\n",
    "print(\"The minimum eigenvalue is: {}.\".format(results[0]))"
   ]
  },
  {
   "cell_type": "code",
   "execution_count": 139,
   "metadata": {},
   "outputs": [
    {
     "name": "stdout",
     "output_type": "stream",
     "text": [
      "The minimum eigenvalue is: -1.6832.\n"
     ]
    }
   ],
   "source": [
    "# Use n_shots = 5000\n",
    "results = []\n",
    "# For each theta, find the expectation value\n",
    "for theta in thetas:\n",
    "    qregisters, cregisters, qcircuits = prepare_state(theta, n=3)\n",
    "    expect = q_expectation(qcircuits, cregisters, qregisters, 5000, n=3)\n",
    "    results.append(expect)\n",
    "# Sort the results in ascending order.  The first one is your minimum eigenvalue.\n",
    "results.sort()\n",
    "print(\"The minimum eigenvalue is: {}.\".format(results[0]))"
   ]
  },
  {
   "cell_type": "markdown",
   "metadata": {},
   "source": [
    "## Since we already know the minimum is achieved with theta = pi, let's increase the shot\n",
    "## count and just use theta = pi and see what results we get.  Let's try to get closer to -2."
   ]
  },
  {
   "cell_type": "code",
   "execution_count": 141,
   "metadata": {},
   "outputs": [
    {
     "name": "stdout",
     "output_type": "stream",
     "text": [
      "The minimum eigenvalue is: -1.6815185546875.\n"
     ]
    }
   ],
   "source": [
    "# Use n_shots = 8192 = max allowed\n",
    "results = []\n",
    "thetas = [np.pi]\n",
    "# For each theta, find the expectation value\n",
    "for theta in thetas:\n",
    "    qregisters, cregisters, qcircuits = prepare_state(theta, n=3)\n",
    "    expect = q_expectation(qcircuits, cregisters, qregisters, 8192, n=3)\n",
    "    results.append(expect)\n",
    "# Sort the results in ascending order.  The first one is your minimum eigenvalue.\n",
    "results.sort()\n",
    "print(\"The minimum eigenvalue is: {}.\".format(results[0]))"
   ]
  },
  {
   "cell_type": "markdown",
   "metadata": {},
   "source": [
    "### I thought I would keep the fun going and write a script that will decompose any 4x4 Hermitian matrix and find\n",
    "### the smallest eigenvalue.  Ran into a hiccup."
   ]
  },
  {
   "cell_type": "code",
   "execution_count": 142,
   "metadata": {},
   "outputs": [],
   "source": [
    "def decomposition(H):\n",
    "    \"\"\"Decompose any 4x4 Hermitian matrix into a sum of tensor products of two Pauli matrices\n",
    "    \"\"\"\n",
    "    A_ij = []\n",
    "    identity = np.array([[1, 0],[ 0, 1]], dtype=np.complex128)\n",
    "    x = np.array([[0, 1],  [ 1, 0]], dtype=np.complex128)\n",
    "    y = np.array([[0, -1j],[1j, 0]], dtype=np.complex128)\n",
    "    z = np.array([[1, 0],  [0, -1]], dtype=np.complex128)\n",
    "    S = [identity, x, y, z]\n",
    "    labels = ['I', 'sigma_x', 'sigma_y', 'sigma_z']\n",
    "    d = {'00': 'I product I', '01': 'I product sigma_x', '02': 'I product sigma_y', '03': 'I product sigma_z', \n",
    "        '10': 'sigma_x product I', '11': 'sigma_x product sigma_x', '12': 'sigma_x product sigma_y', '13': 'sigma_x product sigma_z',\n",
    "        '20': 'sigma_y product I', '21': 'sigma_y product sigma_x', '22': 'sigma_y product sigma_y', '23': 'sigma_y product sigma_z',\n",
    "        '30': 'sigma_z product I', '31': 'sigma_z product sigma_x', '32': 'sigma_z product sigma_y', '33': 'sigma_z product sigma_z'}\n",
    "    for i in range(4):\n",
    "        for j in range(4):\n",
    "            a_ij = 0.25 * np.dot(kron(S[i], S[j]), H).trace()\n",
    "            A_ij.append(a_ij)\n",
    "            if a_ij != 0.0:\n",
    "                print(str(a_ij) + ' * ' + d[str(i)+str(j)])\n",
    "    return np.asarray(A_ij).reshape(4,4)"
   ]
  },
  {
   "cell_type": "code",
   "execution_count": 144,
   "metadata": {},
   "outputs": [],
   "source": [
    "def prepare_state(A, theta):\n",
    "    qregisters = []\n",
    "    cregisters = []\n",
    "    qcircuits = []\n",
    "    identity = np.array([[1, 0],[ 0, 1]], dtype=np.complex128)\n",
    "    x = np.array([[0, 1],  [ 1, 0]], dtype=np.complex128)\n",
    "    y = np.array([[0, -1j],[1j, 0]], dtype=np.complex128)\n",
    "    z = np.array([[1, 0],  [0, -1]], dtype=np.complex128)\n",
    "    d = {}\n",
    "    for i in range(4):\n",
    "        for j in range(4):\n",
    "            if A[i,j] != 0:\n",
    "                if i !=0 and j!=0:\n",
    "                    qr = qk.QuantumRegister(2)\n",
    "                    cr = qk.ClassicalRegister(2)\n",
    "                    qc = qk.QuantumCircuit(qr,cr)\n",
    "                    qc.h(qr[0])\n",
    "                    qc.rz(theta, qr[0])\n",
    "                    qc.cx(qr[0], qr[1])\n",
    "                    qc.x(qr[1])\n",
    "                    if i==1:\n",
    "                        qc.ry((np.pi)/2, qr[0])\n",
    "                    if i==2:\n",
    "                        qc.rx(-(np.pi)/2, qr[0])\n",
    "                    if j==1:\n",
    "                        qc.ry((np.pi)/2, qr[1])\n",
    "                    if j==2:\n",
    "                        qc.rx(-(np.pi)/2, qr[1])\n",
    "                    qregisters.append(qr)\n",
    "                    cregisters.append(cr)\n",
    "                    qcircuits.append(qc)\n",
    "                    d[(i,j)] = [qregisters, cregisters, qcircuits]\n",
    "    return d, A"
   ]
  },
  {
   "cell_type": "code",
   "execution_count": 145,
   "metadata": {},
   "outputs": [],
   "source": [
    "def expectation(d, A, n_shots):\n",
    "    \"\"\"\n",
    "    For each circuit, execute and measure it using the classical simulator 5000 times as explained above. Multiply\n",
    "    each of the three expectation values by 0.5, add them up, and subtract -0.5.  Return the result.\n",
    "    \"\"\"\n",
    "    if A[0,0] != 0:\n",
    "        expect = A[0,0]\n",
    "    else:\n",
    "        expect = 0\n",
    "    for k,v in d.items():\n",
    "        for i in range(len(v[2])):\n",
    "            v[2][i].measure(v[0][i],v[1][i])\n",
    "            qk.Aer.backends()\n",
    "            sim = qk.Aer.get_backend('qasm_simulator')\n",
    "            res = qk.execute(v[2][i], sim, shots=n_shots).result()\n",
    "            counts = res.get_counts()\n",
    "            sum = 0\n",
    "            for m,n in counts.items():\n",
    "                if m=='01' or m=='10':\n",
    "                    sum += (-1)*n/n_shots\n",
    "                elif m=='00' or m=='11':\n",
    "                    sum += n/n_shots\n",
    "            sum = A[k[0],k[1]]*sum\n",
    "            expect += sum\n",
    "    return expect"
   ]
  },
  {
   "cell_type": "code",
   "execution_count": 146,
   "metadata": {},
   "outputs": [
    {
     "name": "stdout",
     "output_type": "stream",
     "text": [
      "(-0.5+0j) * I product I\n",
      "(0.5+0j) * sigma_x product sigma_x\n",
      "(0.5+0j) * sigma_y product sigma_y\n",
      "(0.5+0j) * sigma_z product sigma_z\n"
     ]
    }
   ],
   "source": [
    "thetas = np.linspace(0, np.pi, 100)\n",
    "H = np.array([[0,0,0,0],[0,-1,1,0],[0,1,-1,0],[0,0,0,0]])\n",
    "A = decomposition(H)"
   ]
  },
  {
   "cell_type": "code",
   "execution_count": 147,
   "metadata": {},
   "outputs": [
    {
     "name": "stdout",
     "output_type": "stream",
     "text": [
      "The minimum eigenvalue is: (-5+0j).\n"
     ]
    }
   ],
   "source": [
    "# For each theta, store the resulting expectation value in results\n",
    "results = []\n",
    "# For each theta, find the expectation value\n",
    "for theta in thetas:\n",
    "    d, A = prepare_state(A, theta)\n",
    "    expect = expectation(d, A, 5000)\n",
    "    results.append(expect)\n",
    "# Sort the results in ascending order.  The first one is your minimum eigenvalue.\n",
    "results.sort()\n",
    "print(\"The minimum eigenvalue is: {}.\".format(results[0]))"
   ]
  },
  {
   "cell_type": "code",
   "execution_count": null,
   "metadata": {},
   "outputs": [],
   "source": [
    "# -5??!!  Maybe I missed something in my logic.  Will continue to look into this. :-)"
   ]
  }
 ],
 "metadata": {
  "kernelspec": {
   "display_name": "Python 3",
   "language": "python",
   "name": "python3"
  },
  "language_info": {
   "codemirror_mode": {
    "name": "ipython",
    "version": 3
   },
   "file_extension": ".py",
   "mimetype": "text/x-python",
   "name": "python",
   "nbconvert_exporter": "python",
   "pygments_lexer": "ipython3",
   "version": "3.8.1"
  }
 },
 "nbformat": 4,
 "nbformat_minor": 4
}
